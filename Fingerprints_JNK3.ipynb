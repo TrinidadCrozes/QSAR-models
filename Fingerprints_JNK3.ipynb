{
  "cells": [
    {
      "cell_type": "code",
      "execution_count": null,
      "id": "03bb2540-20f2-4c3e-9363-f1971d5a487c",
      "metadata": {
        "tags": [],
        "id": "03bb2540-20f2-4c3e-9363-f1971d5a487c"
      },
      "outputs": [],
      "source": [
        "import numpy as np\n",
        "import pandas as pd\n",
        "from rdkit import Chem\n",
        "from rdkit.Chem import SaltRemover\n",
        "from mordred import Calculator, descriptors\n",
        "from rdkit.Chem.AllChem import GetMorganFingerprintAsBitVect\n",
        "from rdkit.Chem import MACCSkeys, MolFromSmiles\n",
        "import sklearn.model_selection\n",
        "from sklearn.model_selection import train_test_split\n",
        "from sklearn.preprocessing import StandardScaler\n",
        "from sklearn.ensemble import RandomForestClassifier, GradientBoostingClassifier\n",
        "from sklearn.svm import SVC\n",
        "from sklearn.metrics import precision_score, recall_score, f1_score, balanced_accuracy_score, fbeta_score\n",
        "import pickle"
      ]
    },
    {
      "cell_type": "code",
      "execution_count": null,
      "id": "6cc0943b-4a43-4b89-914b-b7208908b7d4",
      "metadata": {
        "tags": [],
        "id": "6cc0943b-4a43-4b89-914b-b7208908b7d4"
      },
      "outputs": [],
      "source": [
        "# Load the dataset GSK3 into a pandas DataFrame\n",
        "dataset = pd.read_csv(\"datasets/GSK3_JNK3/JNK3/all.txt\")"
      ]
    },
    {
      "cell_type": "code",
      "execution_count": null,
      "id": "5d01d97e-73c6-4d31-8a1e-babfb4308bb1",
      "metadata": {
        "tags": [],
        "id": "5d01d97e-73c6-4d31-8a1e-babfb4308bb1"
      },
      "outputs": [],
      "source": [
        "# Function to obtain the Canonical SMILES from a SMILES string\n",
        "def get_canonical_smiles(smiles):\n",
        "    # Convert the SMILES string to a molecule\n",
        "    mol = Chem.MolFromSmiles(smiles)\n",
        "\n",
        "    # Convert the molecule to a canonical SMILES string\n",
        "    canonical_smiles = Chem.MolToSmiles(mol)\n",
        "\n",
        "    return canonical_smiles\n",
        "\n",
        "# Calculate canonical smiles for every SMILES string in GSK3 DataFrame\n",
        "canonical_dataset = [get_canonical_smiles(smiles) for smiles in dataset[\"smiles\"]]\n",
        "\n",
        "# Save the canonical smiles in a new column called canonical_smiles in the dataframe\n",
        "dataset.insert(loc = 0, column = \"canonical_smiles\", value = canonical_dataset)"
      ]
    },
    {
      "cell_type": "code",
      "execution_count": null,
      "id": "67d9ebb3-9637-447c-952f-713da9967ffb",
      "metadata": {
        "tags": [],
        "id": "67d9ebb3-9637-447c-952f-713da9967ffb"
      },
      "outputs": [],
      "source": [
        "# Salt and solvent removal\n",
        "def salt_solvent_remover(smiles):\n",
        "    # Define the salt remover https://github.com/rdkit/rdkit/blob/master/Data/Salts.txt\n",
        "    remover = SaltRemover.SaltRemover()\n",
        "\n",
        "    # Convert the SMILES string to a molecule\n",
        "    mol = Chem.MolFromSmiles(smiles)\n",
        "\n",
        "    # Remove salts and solvents from the molecule\n",
        "    stripped_mol = remover.StripMol(mol)\n",
        "\n",
        "    # Convert the stripped molecule to the stripped SMILES\n",
        "    stripped_smiles = Chem.MolToSmiles(stripped_mol)\n",
        "\n",
        "    return stripped_smiles\n",
        "\n",
        "# Remove salt and solvent from every SMILES string in GSK3 DataFrame\n",
        "stripped_dataset = [salt_solvent_remover(smiles) for smiles in dataset[\"canonical_smiles\"]]\n",
        "\n",
        "# Save the stripped SMILES in a new column called stripped_smiles in the dataframe\n",
        "dataset[\"stripped_smiles\"] = stripped_dataset"
      ]
    },
    {
      "cell_type": "code",
      "execution_count": null,
      "id": "6fc55b07-3e16-47bc-9693-62607bebb7f9",
      "metadata": {
        "tags": [],
        "id": "6fc55b07-3e16-47bc-9693-62607bebb7f9"
      },
      "outputs": [],
      "source": [
        "# Duplicities analysis and removal\n",
        "dataset_without_duplicates = dataset.drop_duplicates(subset=['stripped_smiles'])\n",
        "dataset = dataset_without_duplicates"
      ]
    },
    {
      "cell_type": "code",
      "execution_count": null,
      "id": "c3e31dc1-0115-4d58-8d63-c459760cd9f5",
      "metadata": {
        "tags": [],
        "id": "c3e31dc1-0115-4d58-8d63-c459760cd9f5"
      },
      "outputs": [],
      "source": [
        "# Save the updated DataFrame to a new file\n",
        "dataset.to_csv(\"dataset_JNK3.csv\", index=False)"
      ]
    },
    {
      "cell_type": "code",
      "execution_count": null,
      "id": "e46a4d9c-568a-45d0-a3ee-13b5042dc8ab",
      "metadata": {
        "tags": [],
        "id": "e46a4d9c-568a-45d0-a3ee-13b5042dc8ab"
      },
      "outputs": [],
      "source": [
        "# Load the dataframe into a new pandas DataFrame\n",
        "dataset = pd.read_csv(\"dataset_JNK3.csv\")"
      ]
    },
    {
      "cell_type": "code",
      "execution_count": null,
      "id": "c9a3f914-65fc-43de-b07b-43096906c3ce",
      "metadata": {
        "tags": [],
        "id": "c9a3f914-65fc-43de-b07b-43096906c3ce"
      },
      "outputs": [],
      "source": [
        "# Obtain fingerprints as an array of 1024 bits from sanitized SMILES\n",
        "smiles = dataset['stripped_smiles'].values\n",
        "fps = [np.array(GetMorganFingerprintAsBitVect(MolFromSmiles(e),2,nBits=1024)) for e in smiles]"
      ]
    },
    {
      "cell_type": "code",
      "execution_count": null,
      "id": "9575aa6d-b282-4380-9ae2-73e9b319e5c6",
      "metadata": {
        "tags": [],
        "id": "9575aa6d-b282-4380-9ae2-73e9b319e5c6"
      },
      "outputs": [],
      "source": [
        "# Define columns names\n",
        "columns = list()\n",
        "for i in range(0,1024):\n",
        "    columns.append('ecfp' + str(i))"
      ]
    },
    {
      "cell_type": "code",
      "execution_count": null,
      "id": "2d1a6d1d-0f38-4788-899e-659dd386bcc0",
      "metadata": {
        "tags": [],
        "id": "2d1a6d1d-0f38-4788-899e-659dd386bcc0"
      },
      "outputs": [],
      "source": [
        "# Create a Dataframe of fingerprints\n",
        "fingerprints = pd.DataFrame(fps, columns = columns)\n",
        "fingerprints"
      ]
    },
    {
      "cell_type": "code",
      "execution_count": null,
      "id": "5138a6b7-9daf-4d07-a524-1c86947021ca",
      "metadata": {
        "tags": [],
        "id": "5138a6b7-9daf-4d07-a524-1c86947021ca"
      },
      "outputs": [],
      "source": [
        "# Concatenate the smiles with their corresponding fingerprint\n",
        "ataset = pd.concat([dataset, fingerprints], axis = 1)\n",
        "dataset"
      ]
    },
    {
      "cell_type": "code",
      "execution_count": null,
      "id": "2eb0e4a9-efe5-43f9-a3c6-f155430a8942",
      "metadata": {
        "tags": [],
        "id": "2eb0e4a9-efe5-43f9-a3c6-f155430a8942"
      },
      "outputs": [],
      "source": [
        "# Save the dataset\n",
        "dataset.to_csv(\"dataset_fingerprints_JNK3.csv\", index=False)"
      ]
    },
    {
      "cell_type": "markdown",
      "source": [
        "## Model training and evaluation"
      ],
      "metadata": {
        "id": "7YBPYoKXafrT"
      },
      "id": "7YBPYoKXafrT"
    },
    {
      "cell_type": "code",
      "execution_count": null,
      "id": "3bef9884-427f-4b77-a8a4-85b15822d6c0",
      "metadata": {
        "tags": [],
        "id": "3bef9884-427f-4b77-a8a4-85b15822d6c0"
      },
      "outputs": [],
      "source": [
        "# Load the dataframe into a new pandas DataFrame\n",
        "dataset = pd.read_csv(\"dataset_fingerprints_JNK3.csv\")"
      ]
    },
    {
      "cell_type": "code",
      "execution_count": null,
      "id": "7ea3379a-9de6-4541-a53d-def039734b9f",
      "metadata": {
        "tags": [],
        "id": "7ea3379a-9de6-4541-a53d-def039734b9f"
      },
      "outputs": [],
      "source": [
        "# Delete columns that aren't necessary to train models\n",
        "dataset = dataset.drop('stripped_smiles', axis = 1)\n",
        "dataset = dataset.drop('canonical_smiles', axis = 1)\n",
        "dataset = dataset.drop('smiles', axis = 1)"
      ]
    },
    {
      "cell_type": "code",
      "execution_count": null,
      "id": "7144c3c0-ce81-49e3-a814-4b3c84c8bbb6",
      "metadata": {
        "tags": [],
        "id": "7144c3c0-ce81-49e3-a814-4b3c84c8bbb6"
      },
      "outputs": [],
      "source": [
        "# X is used to save fingerprints\n",
        "X = dataset.drop('jnk3', axis = 1)\n",
        "# y is used to save the real value of the target\n",
        "y = dataset['jnk3']"
      ]
    },
    {
      "cell_type": "markdown",
      "source": [
        "### Split the dataset"
      ],
      "metadata": {
        "id": "ANpGZUc8ahNo"
      },
      "id": "ANpGZUc8ahNo"
    },
    {
      "cell_type": "code",
      "execution_count": null,
      "id": "44c03da4-0a20-4dc2-93d7-69bee41ed72c",
      "metadata": {
        "tags": [],
        "id": "44c03da4-0a20-4dc2-93d7-69bee41ed72c"
      },
      "outputs": [],
      "source": [
        "# Split the dataset into random train and test subsets\n",
        "X_train, X_test, y_train, y_test = train_test_split(X, y, test_size=0.30, random_state = 0, stratify = y)"
      ]
    },
    {
      "cell_type": "markdown",
      "source": [
        "## Random Forest Model\n"
      ],
      "metadata": {
        "id": "h7Gs_LK2aoCE"
      },
      "id": "h7Gs_LK2aoCE"
    },
    {
      "cell_type": "code",
      "execution_count": null,
      "id": "9aaa55c1-3e59-451f-84ad-60007ee6ef28",
      "metadata": {
        "tags": [],
        "id": "9aaa55c1-3e59-451f-84ad-60007ee6ef28"
      },
      "outputs": [],
      "source": [
        "n_estimators = [10, 50, 70, 100, 150, 200]\n",
        "max_depth = [None, 5, 7, 10, 13, 15]\n",
        "# Create a dataframe to save the metrics for each set of parameters\n",
        "df_RF = pd.DataFrame(columns = ['n_estimators', 'max_depth', 'sensitivity', 'specificity', 'precision', 'f1_score', 'balanced_accuracy', 'fbeta_score'])\n",
        "for n in n_estimators:\n",
        "  for d in max_depth:\n",
        "    model = RandomForestClassifier(n_estimators = n, max_depth = d, n_jobs = 4, random_state = 0, class_weight = \"balanced\")\n",
        "    model.fit(X_train, y_train)\n",
        "    y_pred = model.predict(X_test)\n",
        "\n",
        "    # Calculate the performance metrics\n",
        "    sensitivity = recall_score(y_test, y_pred)\n",
        "    specificity = recall_score(y_test, y_pred, pos_label = 0)\n",
        "    precision = precision_score(y_test, y_pred)\n",
        "    f1_score = sklearn.metrics.f1_score(y_test, y_pred)\n",
        "    balanced_accuracy = balanced_accuracy_score(y_test, y_pred)\n",
        "    fbeta_score = sklearn.metrics.fbeta_score(y_test, y_pred, beta = 2)\n",
        "    df_RF.loc[len(df_RF.index)] = [f\"{n}\", f\"{d}\", f\"{sensitivity}\", f\"{specificity}\", f\"{precision}\", f\"{f1_score}\", f\"{balanced_accuracy}\", f\"{fbeta_score}\"]"
      ]
    },
    {
      "cell_type": "code",
      "execution_count": null,
      "id": "27dcac9a-c484-4506-8531-0ab638b3eafa",
      "metadata": {
        "tags": [],
        "id": "27dcac9a-c484-4506-8531-0ab638b3eafa"
      },
      "outputs": [],
      "source": [
        "# Sort the performance metrics by fbeta_score in ascending order\n",
        "df_RF = df_RF.sort_values(by = \"fbeta_score\", ascending = False)\n",
        "df_RF.to_csv(\"FINGERPRINT_JNK3_RFresults.csv\", index = False)"
      ]
    },
    {
      "cell_type": "markdown",
      "source": [
        "### Save models trained with train data"
      ],
      "metadata": {
        "id": "wnl7eUkIa53_"
      },
      "id": "wnl7eUkIa53_"
    },
    {
      "cell_type": "code",
      "execution_count": null,
      "id": "41b25134-3adc-4842-86b3-c4cf79c3fe56",
      "metadata": {
        "tags": [],
        "id": "41b25134-3adc-4842-86b3-c4cf79c3fe56"
      },
      "outputs": [],
      "source": [
        "model = RandomForestClassifier(n_estimators = 150, max_depth = 10, n_jobs = 10, random_state = 0, class_weight = \"balanced\")\n",
        "model.fit(X_train, y_train)\n",
        "pickle.dump(model, open('FP_modelRF_JNK3_150_10.pkl', 'wb'))"
      ]
    },
    {
      "cell_type": "code",
      "execution_count": null,
      "id": "c749a53d-3e62-46b0-a769-7a6369f446fb",
      "metadata": {
        "tags": [],
        "id": "c749a53d-3e62-46b0-a769-7a6369f446fb"
      },
      "outputs": [],
      "source": [
        "model = RandomForestClassifier(n_estimators = 50, max_depth = 10, n_jobs = 10, random_state = 0, class_weight = \"balanced\")\n",
        "model.fit(X_train, y_train)\n",
        "pickle.dump(model, open('FP_modelRF_JNK3_50_10.pkl', 'wb'))"
      ]
    },
    {
      "cell_type": "code",
      "execution_count": null,
      "id": "287606d0-cfa5-4df0-aede-56dc3a04e637",
      "metadata": {
        "tags": [],
        "id": "287606d0-cfa5-4df0-aede-56dc3a04e637"
      },
      "outputs": [],
      "source": [
        "model = RandomForestClassifier(n_estimators = 70, max_depth = 10, n_jobs = 10, random_state = 0, class_weight = \"balanced\")\n",
        "model.fit(X_train, y_train)\n",
        "pickle.dump(model, open('FP_modelRF_JNK3_70_10.pkl', 'wb'))"
      ]
    },
    {
      "cell_type": "markdown",
      "source": [
        "## C-Support Vector Classification Model"
      ],
      "metadata": {
        "id": "XznNukgUapxs"
      },
      "id": "XznNukgUapxs"
    },
    {
      "cell_type": "code",
      "execution_count": null,
      "id": "be27e5c2-5108-4d8a-9e06-394d6499b64f",
      "metadata": {
        "tags": [],
        "id": "be27e5c2-5108-4d8a-9e06-394d6499b64f"
      },
      "outputs": [],
      "source": [
        "C_range = [1, 0.01, 0.001]\n",
        "# Create a dataframe to save the metrics for each set of parameters\n",
        "df_SVC = pd.DataFrame(columns = ['C', 'sensitivity', 'specificity', 'precision', 'f1_score', 'balanced_accuracy', 'fbeta_score'])\n",
        "for c in C_range:\n",
        "    model = SVC(C = c, probability = True, class_weight = \"balanced\",  random_state = 0)\n",
        "    model.fit(X_train, y_train)\n",
        "    y_pred = model.predict(X_test)\n",
        "    print(c)\n",
        "\n",
        "    # Calculate the performance metrics\n",
        "    sensitivity = recall_score(y_test, y_pred)\n",
        "    specificity = recall_score(y_test, y_pred, pos_label = 0)\n",
        "    precision = precision_score(y_test, y_pred)\n",
        "    f1_score = sklearn.metrics.f1_score(y_test, y_pred)\n",
        "    balanced_accuracy = balanced_accuracy_score(y_test, y_pred)\n",
        "    fbeta_score = sklearn.metrics.fbeta_score(y_test, y_pred, beta = 2)\n",
        "    df_SVC.loc[len(df_SVC.index)] = [f\"{c}\", f\"{sensitivity}\", f\"{specificity}\", f\"{precision}\", f\"{f1_score}\", f\"{balanced_accuracy}\", f\"{fbeta_score}\"]"
      ]
    },
    {
      "cell_type": "code",
      "execution_count": null,
      "id": "1ad7ac21-445b-4c12-b19a-4e5a527c2882",
      "metadata": {
        "tags": [],
        "id": "1ad7ac21-445b-4c12-b19a-4e5a527c2882"
      },
      "outputs": [],
      "source": [
        "# Sort the performance metrics by fbeta_score in ascending order\n",
        "df_SVC = df_SVC.sort_values(by = \"fbeta_score\", ascending = False)\n",
        "df_SVC.to_csv(\"FINGERPRINT_JNK3_SVCresults.csv\", index = False)"
      ]
    },
    {
      "cell_type": "markdown",
      "source": [
        "### Save models trained with train data"
      ],
      "metadata": {
        "id": "WCvuEGs6a7uS"
      },
      "id": "WCvuEGs6a7uS"
    },
    {
      "cell_type": "code",
      "execution_count": null,
      "id": "d199d8aa-4078-4170-935d-a4e6aee2eb04",
      "metadata": {
        "id": "d199d8aa-4078-4170-935d-a4e6aee2eb04"
      },
      "outputs": [],
      "source": [
        "model = SVC(C = 1, class_weight = \"balanced\",  random_state = 0)\n",
        "model.fit(X_train, y_train)\n",
        "pickle.dump(model, open('FP_modelSVC_JNK3_1.pkl', 'wb'))"
      ]
    },
    {
      "cell_type": "markdown",
      "source": [
        "## Save models trained with all data"
      ],
      "metadata": {
        "id": "jt_EHupMbBFQ"
      },
      "id": "jt_EHupMbBFQ"
    },
    {
      "cell_type": "markdown",
      "source": [
        "### Save Random Forest Models"
      ],
      "metadata": {
        "id": "hqDIG_0lbEcC"
      },
      "id": "hqDIG_0lbEcC"
    },
    {
      "cell_type": "code",
      "execution_count": null,
      "id": "256c04b5-5c4f-4122-9652-f400548ff65e",
      "metadata": {
        "tags": [],
        "id": "256c04b5-5c4f-4122-9652-f400548ff65e"
      },
      "outputs": [],
      "source": [
        "model = RandomForestClassifier(n_estimators = 150, max_depth = 10, n_jobs = 10, random_state = 0, class_weight = \"balanced\")\n",
        "model.fit(X, y)\n",
        "pickle.dump(model, open('FP_modelALLRF_JNK3_150_10.pkl', 'wb'))"
      ]
    },
    {
      "cell_type": "code",
      "execution_count": null,
      "id": "eee78bcd-51dd-4c6a-9717-54e39c7c9d0f",
      "metadata": {
        "tags": [],
        "id": "eee78bcd-51dd-4c6a-9717-54e39c7c9d0f"
      },
      "outputs": [],
      "source": [
        "model = RandomForestClassifier(n_estimators = 50, max_depth = 10, n_jobs = 10, random_state = 0, class_weight = \"balanced\")\n",
        "model.fit(X, y)\n",
        "pickle.dump(model, open('FP_modelALLRF_JNK3_50_10.pkl', 'wb'))"
      ]
    },
    {
      "cell_type": "code",
      "execution_count": null,
      "id": "78525fda-b270-43aa-ac38-d23db2452f44",
      "metadata": {
        "tags": [],
        "id": "78525fda-b270-43aa-ac38-d23db2452f44"
      },
      "outputs": [],
      "source": [
        "model = RandomForestClassifier(n_estimators = 70, max_depth = 10, n_jobs = 10, random_state = 0, class_weight = \"balanced\")\n",
        "model.fit(X, y)\n",
        "pickle.dump(model, open('FP_modelALLRF_JNK3_70_10.pkl', 'wb'))"
      ]
    },
    {
      "cell_type": "markdown",
      "source": [
        "### Save SVC Models"
      ],
      "metadata": {
        "id": "NmxqABT9bKOk"
      },
      "id": "NmxqABT9bKOk"
    },
    {
      "cell_type": "code",
      "execution_count": null,
      "id": "66fdf6b3-ca59-4b6f-8eb8-cb50dfe941f9",
      "metadata": {
        "tags": [],
        "id": "66fdf6b3-ca59-4b6f-8eb8-cb50dfe941f9"
      },
      "outputs": [],
      "source": [
        "model = SVC(C = 1, class_weight = \"balanced\",  random_state = 0)\n",
        "model.fit(X, y)\n",
        "pickle.dump(model, open('FP_modelALLSVC_JNK3_1.pkl', 'wb'))"
      ]
    }
  ],
  "metadata": {
    "kernelspec": {
      "display_name": "Python 3 (ipykernel)",
      "language": "python",
      "name": "python3"
    },
    "language_info": {
      "codemirror_mode": {
        "name": "ipython",
        "version": 3
      },
      "file_extension": ".py",
      "mimetype": "text/x-python",
      "name": "python",
      "nbconvert_exporter": "python",
      "pygments_lexer": "ipython3",
      "version": "3.7.9"
    },
    "colab": {
      "provenance": []
    }
  },
  "nbformat": 4,
  "nbformat_minor": 5
}