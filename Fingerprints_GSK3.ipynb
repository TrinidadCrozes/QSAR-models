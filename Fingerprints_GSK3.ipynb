{
  "cells": [
    {
      "cell_type": "code",
      "execution_count": null,
      "id": "14fe37ce-e19f-4fee-932c-89f455656c39",
      "metadata": {
        "tags": [],
        "id": "14fe37ce-e19f-4fee-932c-89f455656c39"
      },
      "outputs": [],
      "source": [
        "import numpy as np\n",
        "import pandas as pd\n",
        "from rdkit import Chem\n",
        "from rdkit.Chem import SaltRemover\n",
        "from mordred import descriptors\n",
        "from rdkit.Chem.AllChem import GetMorganFingerprintAsBitVect\n",
        "from rdkit.Chem import MolFromSmiles\n",
        "import sklearn.model_selection\n",
        "from sklearn.model_selection import train_test_split\n",
        "from sklearn.ensemble import RandomForestClassifier\n",
        "from sklearn.svm import SVC\n",
        "from sklearn.metrics import precision_score, recall_score, f1_score, balanced_accuracy_score, fbeta_score\n",
        "import pickle"
      ]
    },
    {
      "cell_type": "markdown",
      "source": [
        "### Load the Dataset\n"
      ],
      "metadata": {
        "id": "TerevFLJgXDi"
      },
      "id": "TerevFLJgXDi"
    },
    {
      "cell_type": "code",
      "execution_count": null,
      "id": "56ff65d0-eb23-45f8-8068-90d4e6207fd1",
      "metadata": {
        "tags": [],
        "id": "56ff65d0-eb23-45f8-8068-90d4e6207fd1"
      },
      "outputs": [],
      "source": [
        "# Load the dataset GSK3 into a pandas DataFrame\n",
        "dataset = pd.read_csv(\"datasets/GSK3_JNK3/GSK3/all.txt\")"
      ]
    },
    {
      "cell_type": "markdown",
      "source": [
        "## Data Sanitization"
      ],
      "metadata": {
        "id": "s-AFiDx9g_bG"
      },
      "id": "s-AFiDx9g_bG"
    },
    {
      "cell_type": "code",
      "execution_count": null,
      "id": "1977b538-99fb-4f1d-914c-8be48511591c",
      "metadata": {
        "tags": [],
        "id": "1977b538-99fb-4f1d-914c-8be48511591c"
      },
      "outputs": [],
      "source": [
        "# Function to obtain the Canonical SMILES from a SMILES string\n",
        "def get_canonical_smiles(smiles):\n",
        "    # Convert the SMILES string to a molecule\n",
        "    mol = Chem.MolFromSmiles(smiles)\n",
        "\n",
        "    # Convert the molecule to a canonical SMILES string\n",
        "    canonical_smiles = Chem.MolToSmiles(mol)\n",
        "\n",
        "    return canonical_smiles\n",
        "\n",
        "# Calculate canonical smiles for every SMILES string in GSK3 DataFrame\n",
        "canonical_dataset = [get_canonical_smiles(smiles) for smiles in dataset[\"smiles\"]]\n",
        "\n",
        "# Save the canonical smiles in a new column called canonical_smiles in the dataframe\n",
        "dataset.insert(loc = 0, column = \"canonical_smiles\", value = canonical_dataset)"
      ]
    },
    {
      "cell_type": "code",
      "execution_count": null,
      "id": "fd7d00f7-8ad2-4244-afbc-84d4503aea00",
      "metadata": {
        "tags": [],
        "id": "fd7d00f7-8ad2-4244-afbc-84d4503aea00"
      },
      "outputs": [],
      "source": [
        "# Salt and solvent removal\n",
        "def salt_solvent_remover(smiles):\n",
        "    # Define the salt remover https://github.com/rdkit/rdkit/blob/master/Data/Salts.txt\n",
        "    remover = SaltRemover.SaltRemover()\n",
        "\n",
        "    # Convert the SMILES string to a molecule\n",
        "    mol = Chem.MolFromSmiles(smiles)\n",
        "\n",
        "    # Remove salts and solvents from the molecule\n",
        "    stripped_mol = remover.StripMol(mol)\n",
        "\n",
        "    # Convert the stripped molecule to the stripped SMILES\n",
        "    stripped_smiles = Chem.MolToSmiles(stripped_mol)\n",
        "\n",
        "    return stripped_smiles\n",
        "\n",
        "# Remove salt and solvent from every SMILES string in GSK3 DataFrame\n",
        "stripped_dataset = [salt_solvent_remover(smiles) for smiles in dataset[\"canonical_smiles\"]]\n",
        "\n",
        "# Save the stripped SMILES in a new column called stripped_smiles in the dataframe\n",
        "dataset[\"stripped_smiles\"] = stripped_dataset"
      ]
    },
    {
      "cell_type": "code",
      "execution_count": null,
      "id": "acec3e32-81b7-4655-98f4-e2f45682ce74",
      "metadata": {
        "tags": [],
        "id": "acec3e32-81b7-4655-98f4-e2f45682ce74"
      },
      "outputs": [],
      "source": [
        "# Duplicities analysis and removal\n",
        "dataset_without_duplicates = dataset.drop_duplicates(subset=['stripped_smiles'])\n",
        "dataset = dataset_without_duplicates"
      ]
    },
    {
      "cell_type": "markdown",
      "source": [
        "### Save the dataset"
      ],
      "metadata": {
        "id": "u5nOnF_LhFg3"
      },
      "id": "u5nOnF_LhFg3"
    },
    {
      "cell_type": "code",
      "execution_count": null,
      "id": "bcbc0868-0b82-41d7-aac0-95d9ba5459fe",
      "metadata": {
        "tags": [],
        "id": "bcbc0868-0b82-41d7-aac0-95d9ba5459fe"
      },
      "outputs": [],
      "source": [
        "# Save the updated DataFrame to a new file\n",
        "dataset.to_csv(\"dataset_GSK3.csv\", index=False)"
      ]
    },
    {
      "cell_type": "markdown",
      "source": [
        "## Fingerprints"
      ],
      "metadata": {
        "id": "CySE9bnEhJSP"
      },
      "id": "CySE9bnEhJSP"
    },
    {
      "cell_type": "code",
      "execution_count": null,
      "id": "624df324-4e79-4d55-a30a-116da4ee4621",
      "metadata": {
        "tags": [],
        "id": "624df324-4e79-4d55-a30a-116da4ee4621"
      },
      "outputs": [],
      "source": [
        "# Load the dataframe into a new pandas DataFrame\n",
        "dataset = pd.read_csv(\"dataset_GSK3.csv\")"
      ]
    },
    {
      "cell_type": "code",
      "execution_count": null,
      "id": "2337ee08-264f-4692-9c7b-75f9ba3ebd4f",
      "metadata": {
        "tags": [],
        "id": "2337ee08-264f-4692-9c7b-75f9ba3ebd4f"
      },
      "outputs": [],
      "source": [
        "# Obtain fingerprints as an array of 1024 bits from sanitized SMILES\n",
        "smiles = dataset['stripped_smiles'].values\n",
        "fps = [np.array(GetMorganFingerprintAsBitVect(MolFromSmiles(e),2,nBits=1024)) for e in smiles]"
      ]
    },
    {
      "cell_type": "code",
      "execution_count": null,
      "id": "c5e01a23-730d-423c-8b97-d0b8ae0a9760",
      "metadata": {
        "tags": [],
        "id": "c5e01a23-730d-423c-8b97-d0b8ae0a9760"
      },
      "outputs": [],
      "source": [
        "# Define columns names\n",
        "columns = list()\n",
        "for i in range(0,1024):\n",
        "    columns.append('ecfp' + str(i))"
      ]
    },
    {
      "cell_type": "code",
      "execution_count": null,
      "id": "56b70d99-6e71-4095-adfa-8845654e229d",
      "metadata": {
        "tags": [],
        "id": "56b70d99-6e71-4095-adfa-8845654e229d"
      },
      "outputs": [],
      "source": [
        "# Create a Dataframe of fingerprints\n",
        "fingerprints = pd.DataFrame(fps, columns = columns)\n",
        "fingerprints"
      ]
    },
    {
      "cell_type": "code",
      "execution_count": null,
      "id": "3a0b5883-b03c-41dd-a739-50a9690daf82",
      "metadata": {
        "tags": [],
        "id": "3a0b5883-b03c-41dd-a739-50a9690daf82"
      },
      "outputs": [],
      "source": [
        "# Concatenate the smiles with their corresponding fingerprint\n",
        "dataset = pd.concat([dataset, fingerprints], axis = 1)\n",
        "dataset"
      ]
    },
    {
      "cell_type": "code",
      "execution_count": null,
      "id": "bf4b562d-8c94-4358-b15e-1bd84d2d06d5",
      "metadata": {
        "tags": [],
        "id": "bf4b562d-8c94-4358-b15e-1bd84d2d06d5"
      },
      "outputs": [],
      "source": [
        "# Save the dataset\n",
        "dataset.to_csv(\"dataset_fingerprints_GSK3.csv\", index=False)"
      ]
    },
    {
      "cell_type": "markdown",
      "source": [
        "## Model training and evaluation"
      ],
      "metadata": {
        "id": "K_vMeJKTjboN"
      },
      "id": "K_vMeJKTjboN"
    },
    {
      "cell_type": "code",
      "execution_count": null,
      "id": "a200e355-91a1-4279-b271-f631d3e6d477",
      "metadata": {
        "tags": [],
        "id": "a200e355-91a1-4279-b271-f631d3e6d477"
      },
      "outputs": [],
      "source": [
        "# Load the dataframe into a new pandas DataFrame\n",
        "dataset = pd.read_csv(\"dataset_fingerprints_GSK3.csv\")"
      ]
    },
    {
      "cell_type": "code",
      "execution_count": null,
      "id": "c077a46c-1d50-42b2-ae16-561efd78dd3e",
      "metadata": {
        "tags": [],
        "id": "c077a46c-1d50-42b2-ae16-561efd78dd3e"
      },
      "outputs": [],
      "source": [
        "# Delete columns that aren't necessary to train models\n",
        "dataset = dataset.drop('stripped_smiles', axis = 1)\n",
        "dataset = dataset.drop('canonical_smiles', axis = 1)\n",
        "dataset = dataset.drop('smiles', axis = 1)"
      ]
    },
    {
      "cell_type": "code",
      "source": [
        "# X is used to save fingerprints\n",
        "X = dataset.drop('gsk3', axis = 1)\n",
        "# y is used to save the real value of the target\n",
        "y = dataset['gsk3']"
      ],
      "metadata": {
        "id": "5fn1135e0RaK"
      },
      "id": "5fn1135e0RaK",
      "execution_count": null,
      "outputs": []
    },
    {
      "cell_type": "markdown",
      "source": [
        "### Split the dataset"
      ],
      "metadata": {
        "id": "dYRXrD0kj7CF"
      },
      "id": "dYRXrD0kj7CF"
    },
    {
      "cell_type": "code",
      "execution_count": null,
      "id": "84486106-5543-4829-85af-cc1fe49a6e36",
      "metadata": {
        "id": "84486106-5543-4829-85af-cc1fe49a6e36"
      },
      "outputs": [],
      "source": [
        "# Split the dataset into random train and test subsets\n",
        "X_train, X_test, y_train, y_test = train_test_split(X, y, test_size=0.30, random_state = 0, stratify = y)"
      ]
    },
    {
      "cell_type": "markdown",
      "id": "a5c069b9-f20a-4c6f-a0f3-f963c61c5deb",
      "metadata": {
        "id": "a5c069b9-f20a-4c6f-a0f3-f963c61c5deb"
      },
      "source": [
        "## Random Forest Model\n",
        "\n"
      ]
    },
    {
      "cell_type": "code",
      "execution_count": null,
      "id": "4f4ce739-2b85-42f3-a3d8-b4f832b59c5a",
      "metadata": {
        "tags": [],
        "id": "4f4ce739-2b85-42f3-a3d8-b4f832b59c5a"
      },
      "outputs": [],
      "source": [
        "n_estimators = [10, 50, 70, 100, 150, 200]\n",
        "max_depth = [None, 5, 7, 10, 13, 15]\n",
        "# Create a dataframe to save the metrics for each set of parameters\n",
        "df_RF = pd.DataFrame(columns = ['n_estimators', 'max_depth', 'sensitivity', 'specificity', 'precision', 'f1_score', 'balanced_accuracy', 'fbeta_score'])\n",
        "for n in n_estimators:\n",
        "  for d in max_depth:\n",
        "    model = RandomForestClassifier(n_estimators = n, max_depth = d, n_jobs = 10, random_state = 0, class_weight = \"balanced\")\n",
        "    model.fit(X_train, y_train)\n",
        "    y_pred = model.predict(X_test)\n",
        "\n",
        "    # Calculate the performance metrics\n",
        "    sensitivity = recall_score(y_test, y_pred)\n",
        "    specificity = recall_score(y_test, y_pred, pos_label = 0)\n",
        "    precision = precision_score(y_test, y_pred)\n",
        "    f1_score = sklearn.metrics.f1_score(y_test, y_pred)\n",
        "    balanced_accuracy = balanced_accuracy_score(y_test, y_pred)\n",
        "    fbeta_score = sklearn.metrics.fbeta_score(y_test, y_pred, beta = 2)\n",
        "    df_RF.loc[len(df_RF.index)] = [f\"{n}\", f\"{d}\", f\"{sensitivity}\", f\"{specificity}\", f\"{precision}\", f\"{f1_score}\", f\"{balanced_accuracy}\", f\"{fbeta_score}\"]"
      ]
    },
    {
      "cell_type": "code",
      "execution_count": null,
      "id": "e0269188-b7a7-4190-b4e8-42aac9014e68",
      "metadata": {
        "id": "e0269188-b7a7-4190-b4e8-42aac9014e68"
      },
      "outputs": [],
      "source": [
        "# Sort the performance metrics by fbeta_score in ascending order\n",
        "df_RF = df_RF.sort_values(by = \"fbeta_score\", ascending = False)\n",
        "df_RF.to_csv(\"FINGERPRINT_GSK3_RFresults.csv\", index = False)"
      ]
    },
    {
      "cell_type": "markdown",
      "source": [
        "### Save models trained with train data"
      ],
      "metadata": {
        "id": "0qCmb4oNkHvg"
      },
      "id": "0qCmb4oNkHvg"
    },
    {
      "cell_type": "code",
      "source": [
        "model = RandomForestClassifier(n_estimators = 150, max_depth = 15, n_jobs = 10, random_state = 0, class_weight = \"balanced\")\n",
        "model.fit(X_train, y_train)\n",
        "pickle.dump(model, open('FP_modelRF_GSK3_150_15.pkl', 'wb'))"
      ],
      "metadata": {
        "id": "YUWAHZUSmtTO"
      },
      "id": "YUWAHZUSmtTO",
      "execution_count": null,
      "outputs": []
    },
    {
      "cell_type": "code",
      "source": [
        "model = RandomForestClassifier(n_estimators = 200, max_depth = 15, n_jobs = 10, random_state = 0, class_weight = \"balanced\")\n",
        "model.fit(X_train, y_train)\n",
        "pickle.dump(model, open('FP_modelRF_GSK3_200_15.pkl', 'wb'))"
      ],
      "metadata": {
        "id": "Una6WlkKnhzJ"
      },
      "id": "Una6WlkKnhzJ",
      "execution_count": null,
      "outputs": []
    },
    {
      "cell_type": "code",
      "source": [
        "model = RandomForestClassifier(n_estimators = 100, max_depth = 15, n_jobs = 10, random_state = 0, class_weight = \"balanced\")\n",
        "model.fit(X_train, y_train)\n",
        "pickle.dump(model, open('FP_modelRF_GSK3_100_15.pkl', 'wb'))"
      ],
      "metadata": {
        "id": "Jd15TMdlnh86"
      },
      "id": "Jd15TMdlnh86",
      "execution_count": null,
      "outputs": []
    },
    {
      "cell_type": "markdown",
      "id": "836e46f4-40e7-4d68-ae12-b301dfc14284",
      "metadata": {
        "id": "836e46f4-40e7-4d68-ae12-b301dfc14284"
      },
      "source": [
        "## C-Support Vector Classification Model"
      ]
    },
    {
      "cell_type": "code",
      "execution_count": null,
      "id": "f0587581-878a-4ff1-b94d-3f590091add5",
      "metadata": {
        "id": "f0587581-878a-4ff1-b94d-3f590091add5"
      },
      "outputs": [],
      "source": [
        "C_range = [3, 1, 0.01, 0.001]\n",
        "# Create a dataframe to save the metrics for each set of parameters\n",
        "df_SVC = pd.DataFrame(columns = ['C', 'sensitivity', 'specificity', 'precision', 'f1_score', 'balanced_accuracy', 'fbeta_score'])\n",
        "for c in C_range:\n",
        "    model = SVC(C = c, probability = True, class_weight = \"balanced\",  random_state = 0)\n",
        "    model.fit(X_train, y_train)\n",
        "    y_pred = model.predict(X_test)\n",
        "    print(c)\n",
        "\n",
        "    # Calculate the performance metrics\n",
        "    sensitivity = recall_score(y_test, y_pred)\n",
        "    specificity = recall_score(y_test, y_pred, pos_label = 0)\n",
        "    precision = precision_score(y_test, y_pred)\n",
        "    f1_score = sklearn.metrics.f1_score(y_test, y_pred)\n",
        "    balanced_accuracy = balanced_accuracy_score(y_test, y_pred)\n",
        "    fbeta_score = sklearn.metrics.fbeta_score(y_test, y_pred, beta = 2)\n",
        "    df_SVC.loc[len(df_SVC.index)] = [f\"{c}\", f\"{sensitivity}\", f\"{specificity}\", f\"{precision}\", f\"{f1_score}\", f\"{balanced_accuracy}\", f\"{fbeta_score}\"]"
      ]
    },
    {
      "cell_type": "code",
      "execution_count": null,
      "id": "48543273-903e-48af-b17e-2070d2cc8466",
      "metadata": {
        "tags": [],
        "id": "48543273-903e-48af-b17e-2070d2cc8466"
      },
      "outputs": [],
      "source": [
        "# Sort the performance metrics by fbeta_score in ascending order\n",
        "df_SVC = df_SVC.sort_values(by = \"fbeta_score\", ascending = False)\n",
        "df_SVC.to_csv(\"FINGERPRINTS_GSK3_SVCresults.csv\", index = False)"
      ]
    },
    {
      "cell_type": "markdown",
      "source": [
        "### Save models trained with train data"
      ],
      "metadata": {
        "id": "9vb4DRyNkMPq"
      },
      "id": "9vb4DRyNkMPq"
    },
    {
      "cell_type": "code",
      "execution_count": null,
      "id": "27feabad-ceb1-4152-b336-d19303ad41ac",
      "metadata": {
        "id": "27feabad-ceb1-4152-b336-d19303ad41ac"
      },
      "outputs": [],
      "source": [
        "model = SVC(C = 3, class_weight = \"balanced\",  random_state = 0)\n",
        "model.fit(X_train, y_train)\n",
        "pickle.dump(model, open('FP_modelSVC_GSK3_3.pkl', 'wb'))"
      ]
    },
    {
      "cell_type": "code",
      "source": [
        "model = SVC(C = 1, class_weight = \"balanced\",  random_state = 0)\n",
        "model.fit(X_train, y_train)\n",
        "pickle.dump(model, open('FP_modelSVC_GSK3_1.pkl', 'wb'))"
      ],
      "metadata": {
        "id": "xnjjv8TsprdU"
      },
      "id": "xnjjv8TsprdU",
      "execution_count": null,
      "outputs": []
    },
    {
      "cell_type": "markdown",
      "source": [
        "## Save models trained with all data"
      ],
      "metadata": {
        "id": "lcsG4wqqkSO8"
      },
      "id": "lcsG4wqqkSO8"
    },
    {
      "cell_type": "markdown",
      "source": [
        "### Save Random Forest Models"
      ],
      "metadata": {
        "id": "kTUR6BigkbG8"
      },
      "id": "kTUR6BigkbG8"
    },
    {
      "cell_type": "code",
      "source": [
        "model = RandomForestClassifier(n_estimators = 150, max_depth = 15, n_jobs = 10, random_state = 0, class_weight = \"balanced\")\n",
        "model.fit(X, y)\n",
        "pickle.dump(model, open('FP_modelALLRF_GSK3_150_15.pkl', 'wb'))"
      ],
      "metadata": {
        "id": "gT9dX1U0ptF6"
      },
      "id": "gT9dX1U0ptF6",
      "execution_count": null,
      "outputs": []
    },
    {
      "cell_type": "code",
      "source": [
        "model = RandomForestClassifier(n_estimators = 200, max_depth = 15, n_jobs = 10, random_state = 0, class_weight = \"balanced\")\n",
        "model.fit(X, y)\n",
        "pickle.dump(model, open('FP_modelALLRF_GSK3_200_15.pkl', 'wb'))"
      ],
      "metadata": {
        "id": "1bvX6M58pu6f"
      },
      "id": "1bvX6M58pu6f",
      "execution_count": null,
      "outputs": []
    },
    {
      "cell_type": "code",
      "source": [
        "model = RandomForestClassifier(n_estimators = 100, max_depth = 15, n_jobs = 10, random_state = 0, class_weight = \"balanced\")\n",
        "model.fit(X, y)\n",
        "pickle.dump(model, open('FP_modelALLRF_GSK3_100_15.pkl', 'wb'))"
      ],
      "metadata": {
        "id": "uxQzOVUmpxIF"
      },
      "id": "uxQzOVUmpxIF",
      "execution_count": null,
      "outputs": []
    },
    {
      "cell_type": "markdown",
      "source": [
        "### Save SVC Models"
      ],
      "metadata": {
        "id": "FyuY17r-kgue"
      },
      "id": "FyuY17r-kgue"
    },
    {
      "cell_type": "code",
      "source": [
        "model = SVC(C = 3, class_weight = \"balanced\",  random_state = 0)\n",
        "model.fit(X, y)\n",
        "pickle.dump(model, open('FP_modelALLSVC_GSK3_3.pkl', 'wb'))"
      ],
      "metadata": {
        "id": "LsT2sTfGpx8d"
      },
      "id": "LsT2sTfGpx8d",
      "execution_count": null,
      "outputs": []
    },
    {
      "cell_type": "code",
      "source": [
        "model = SVC(C = 1, class_weight = \"balanced\",  random_state = 0)\n",
        "model.fit(X, y)\n",
        "pickle.dump(model, open('FP_modelALLSVC_GSK3_1.pkl', 'wb'))"
      ],
      "metadata": {
        "id": "vtBDXaPjpyD_"
      },
      "id": "vtBDXaPjpyD_",
      "execution_count": null,
      "outputs": []
    }
  ],
  "metadata": {
    "kernelspec": {
      "display_name": "Python 3 (ipykernel)",
      "language": "python",
      "name": "python3"
    },
    "language_info": {
      "codemirror_mode": {
        "name": "ipython",
        "version": 3
      },
      "file_extension": ".py",
      "mimetype": "text/x-python",
      "name": "python",
      "nbconvert_exporter": "python",
      "pygments_lexer": "ipython3",
      "version": "3.7.9"
    },
    "colab": {
      "provenance": []
    }
  },
  "nbformat": 4,
  "nbformat_minor": 5
}