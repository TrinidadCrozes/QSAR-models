{
  "cells": [
    {
      "cell_type": "markdown",
      "metadata": {
        "id": "f395e8ee-006d-4165-b9b2-50c407d22d13"
      },
      "source": [
        "# Chem data sanitization"
      ],
      "id": "f395e8ee-006d-4165-b9b2-50c407d22d13"
    },
    {
      "cell_type": "code",
      "execution_count": null,
      "metadata": {
        "id": "bb064635-03ad-4878-9bfc-0eab9eb76cf6"
      },
      "outputs": [],
      "source": [
        "import numpy as np\n",
        "import pandas as pd\n",
        "import warnings\n",
        "warnings.filterwarnings(\"ignore\")\n",
        "from rdkit import Chem\n",
        "from rdkit.Chem import SaltRemover\n",
        "from mordred import Calculator, descriptors"
      ],
      "id": "bb064635-03ad-4878-9bfc-0eab9eb76cf6"
    },
    {
      "cell_type": "markdown",
      "metadata": {
        "id": "38f26772-74c8-451a-8b1b-7785e6bebcc2"
      },
      "source": [
        "## Load the Dataset"
      ],
      "id": "38f26772-74c8-451a-8b1b-7785e6bebcc2"
    },
    {
      "cell_type": "code",
      "execution_count": null,
      "metadata": {
        "id": "ff825e6f-68c5-4a10-baf6-f7f64f52fc62"
      },
      "outputs": [],
      "source": [
        "# Load the dataset GSK3 into a pandas DataFrame\n",
        "df_GSK3 = pd.read_csv(\"./datasets/GSK3_JNK3/GSK3/all.txt\")"
      ],
      "id": "ff825e6f-68c5-4a10-baf6-f7f64f52fc62"
    },
    {
      "cell_type": "markdown",
      "metadata": {
        "id": "641ab04f-320e-4acb-beb5-40f52fb81ae4"
      },
      "source": [
        "## Database curation from chemical POV\n"
      ],
      "id": "641ab04f-320e-4acb-beb5-40f52fb81ae4"
    },
    {
      "cell_type": "code",
      "execution_count": null,
      "metadata": {
        "id": "37caf45f-95b7-4ae7-81e5-41568416ebc0"
      },
      "outputs": [],
      "source": [
        "# Function to obtain the Canonical SMILES from a SMILES string\n",
        "def get_canonical_smiles(smiles):\n",
        "    # Convert the SMILES string to a molecule\n",
        "    mol = Chem.MolFromSmiles(smiles)\n",
        "\n",
        "    # Convert the molecule to a canonical SMILES string\n",
        "    canonical_smiles = Chem.MolToSmiles(mol)\n",
        "\n",
        "    return canonical_smiles\n",
        "\n",
        "# Calculate canonical smiles for every SMILES string in GSK3 DataFrame\n",
        "canonical_df_GSK3 = [get_canonical_smiles(smiles) for smiles in df_GSK3[\"smiles\"]]\n",
        "\n",
        "# Save the canonical smiles in a new column called canonical_smiles in the dataframe\n",
        "df_GSK3.insert(loc = 0, column = \"canonical_smiles\", value = canonical_df_GSK3)"
      ],
      "id": "37caf45f-95b7-4ae7-81e5-41568416ebc0"
    },
    {
      "cell_type": "code",
      "execution_count": null,
      "metadata": {
        "id": "6e201e29-f8f0-43d0-83db-51071260b5a4"
      },
      "outputs": [],
      "source": [
        "# Salt and solvent removal\n",
        "def salt_solvent_remover(smiles):\n",
        "    # Define the salt remover https://github.com/rdkit/rdkit/blob/master/Data/Salts.txt\n",
        "    remover = SaltRemover.SaltRemover()\n",
        "\n",
        "    # Convert the SMILES string to a molecule\n",
        "    mol = Chem.MolFromSmiles(smiles)\n",
        "\n",
        "    # Remove salts and solvents from the molecule\n",
        "    stripped_mol = remover.StripMol(mol)\n",
        "\n",
        "    # Convert the stripped molecule to the stripped SMILES\n",
        "    stripped_smiles = Chem.MolToSmiles(stripped_mol)\n",
        "\n",
        "    return stripped_smiles\n",
        "\n",
        "# Remove salt and solvent from every SMILES string in GSK3 DataFrame\n",
        "stripped_df_GSK3 = [salt_solvent_remover(smiles) for smiles in df_GSK3[\"canonical_smiles\"]]\n",
        "\n",
        "# Save the stripped SMILES in a new column called stripped_smiles in the dataframe\n",
        "df_GSK3[\"stripped_smiles\"] = stripped_df_GSK3"
      ],
      "id": "6e201e29-f8f0-43d0-83db-51071260b5a4"
    },
    {
      "cell_type": "code",
      "execution_count": null,
      "metadata": {
        "id": "f48af3a9-340f-4b05-b8d9-e3053ab7aa64"
      },
      "outputs": [],
      "source": [
        "# Duplicities analysis and removal\n",
        "df_GSK3_without_duplicates = df_GSK3.drop_duplicates(subset=['stripped_smiles'])\n",
        "df_GSK3 = df_GSK3_without_duplicates"
      ],
      "id": "f48af3a9-340f-4b05-b8d9-e3053ab7aa64"
    },
    {
      "cell_type": "code",
      "execution_count": null,
      "metadata": {
        "id": "aa161ec5-0a5b-428c-813c-df89ded6ffc5"
      },
      "outputs": [],
      "source": [
        "# Save the updated DataFrame to a new file\n",
        "df_GSK3.to_csv(\"dfA_GSK3.csv\", index=False)"
      ],
      "id": "aa161ec5-0a5b-428c-813c-df89ded6ffc5"
    },
    {
      "cell_type": "markdown",
      "metadata": {
        "id": "48e25ae1-9d9a-4da6-bfca-b439a1ea8383"
      },
      "source": [
        "## Descriptors\n",
        "\n"
      ],
      "id": "48e25ae1-9d9a-4da6-bfca-b439a1ea8383"
    },
    {
      "cell_type": "code",
      "execution_count": null,
      "metadata": {
        "id": "928e22ea-7466-45a6-956e-b68f643c1edf"
      },
      "outputs": [],
      "source": [
        "# Load the dfA_GSK3 dataframe into a new pandas DataFrame\n",
        "dfA_GSK3 = pd.read_csv(\"dfA_GSK3.csv\")"
      ],
      "id": "928e22ea-7466-45a6-956e-b68f643c1edf"
    },
    {
      "cell_type": "code",
      "execution_count": null,
      "metadata": {
        "id": "5bba4e0a-4f10-402b-943c-e5aca0298a50"
      },
      "outputs": [],
      "source": [
        "# Drop chemical compounds that produce warnings computing their descriptors\n",
        "dfA_GSK3 = dfA_GSK3.drop([2378, 8075, 13886, 20182, 22864, 28373, 29626, 42596, 42283, 44180, 44296, 46363, 47018, 52572])\n",
        "\n",
        "# Save the updated DataFrame to a new file\n",
        "dfA_GSK3.to_csv(\"dfB_GSK3.csv\", index=False)"
      ],
      "id": "5bba4e0a-4f10-402b-943c-e5aca0298a50"
    },
    {
      "cell_type": "code",
      "execution_count": null,
      "metadata": {
        "id": "ab455fe4-c1e1-495f-bea9-c582fb025f4a"
      },
      "outputs": [],
      "source": [
        "# Selection of descriptors types to compute: 0-1-2D\n",
        "# Function to calculate descriptors for an array of SMILES strings\n",
        "def calculate_descriptors(smiles):\n",
        "    # Create descriptor calculator with all descriptors except 3D ones\n",
        "    calc = Calculator(descriptors, ignore_3D = True)\n",
        "\n",
        "    # Obtain an array of molecules from their SMILES strings\n",
        "    mols = [Chem.MolFromSmiles(smi) for smi in smiles]\n",
        "\n",
        "    # Calculate descriptors for each molecule\n",
        "    df = calc.pandas(mols)\n",
        "\n",
        "    return df"
      ],
      "id": "ab455fe4-c1e1-495f-bea9-c582fb025f4a"
    },
    {
      "cell_type": "code",
      "execution_count": null,
      "metadata": {
        "id": "313ab43e-59cb-42ee-818d-626ea188a2da"
      },
      "outputs": [],
      "source": [
        "# Load the dfB_GSK3 dataframe into a new pandas DataFrame\n",
        "dfB_GSK3 = pd.read_csv(\"dfB_GSK3.csv\")\n",
        "# Obtain a dataframe of descriptors for every SMILES sztring\n",
        "descriptors = calculate_descriptors(dfB_GSK3['stripped_smiles'])"
      ],
      "id": "313ab43e-59cb-42ee-818d-626ea188a2da"
    },
    {
      "cell_type": "code",
      "execution_count": null,
      "metadata": {
        "id": "a1877e05-d52f-494d-9c27-cc3bd76d2cac"
      },
      "outputs": [],
      "source": [
        "descriptors"
      ],
      "id": "a1877e05-d52f-494d-9c27-cc3bd76d2cac"
    },
    {
      "cell_type": "code",
      "execution_count": null,
      "metadata": {
        "id": "96a59993-5b7f-4e9e-a7c9-a003197092ff"
      },
      "outputs": [],
      "source": [
        "# Convert the values in descriptors to numeric types and if a value cannot be converted, it is replaced with NaN\n",
        "descriptors = descriptors.apply(pd.to_numeric, errors = 'coerce')\n",
        "print(descriptors.info())"
      ],
      "id": "96a59993-5b7f-4e9e-a7c9-a003197092ff"
    },
    {
      "cell_type": "code",
      "source": [
        "# Delete descriptors highly correlated\n",
        "# Obtain the matrix with the correlation between every pair of descriptors\n",
        "corr_matrix = descriptors.corr().abs()\n",
        "\n",
        "# Define a limit of correlation accepted\n",
        "threshold = 0.98\n",
        "\n",
        "# Obtain the upper matrix as a dataframe\n",
        "upper_matrix = corr_matrix.where(np.triu(np.ones(corr_matrix.shape), k=1).astype(bool))\n",
        "\n",
        "# Obtain the columns that are >0.95 correlated\n",
        "to_drop = [column for column in upper_matrix.columns if any(upper_matrix[column] > threshold)]\n",
        "\n",
        "# Drop selected columns\n",
        "descriptors.drop(to_drop,  inplace = True, axis=1)\n",
        "descriptors"
      ],
      "metadata": {
        "id": "qxzRoazrhXFJ"
      },
      "id": "qxzRoazrhXFJ",
      "execution_count": null,
      "outputs": []
    },
    {
      "cell_type": "code",
      "execution_count": null,
      "metadata": {
        "id": "5842a8f4-b57c-47c2-bee5-92d1d5bab935"
      },
      "outputs": [],
      "source": [
        "# Delete constant descriptors\n",
        "# Obtain all dataframe columns that have the same constant value for each compound\n",
        "list_constantes = descriptors.columns[descriptors.eq(descriptors.iloc[0]).all()].tolist()\n",
        "# Delete constant columns\n",
        "descriptors.drop(list_constantes,  inplace = True, axis = 1)\n",
        "descriptors"
      ],
      "id": "5842a8f4-b57c-47c2-bee5-92d1d5bab935"
    },
    {
      "cell_type": "code",
      "execution_count": null,
      "metadata": {
        "id": "700b87fb-e232-47b4-8010-763bda3f85a5"
      },
      "outputs": [],
      "source": [
        "# Delete descriptors which all values are NaN\n",
        "descriptors.dropna(axis = 1, how = 'all')\n",
        "descriptors"
      ],
      "id": "700b87fb-e232-47b4-8010-763bda3f85a5"
    },
    {
      "cell_type": "code",
      "execution_count": null,
      "metadata": {
        "id": "d54d095e-11e9-44bd-b43f-4c99443ea146"
      },
      "outputs": [],
      "source": [
        "# Delete columns (descriptors) with >5% of NaN\n",
        "descriptors.drop(descriptors.columns[descriptors.isna().mean() > 0.05], inplace = True, axis = 1)\n",
        "print(descriptors.info())"
      ],
      "id": "d54d095e-11e9-44bd-b43f-4c99443ea146"
    },
    {
      "cell_type": "code",
      "execution_count": null,
      "metadata": {
        "id": "1558a045-7bed-4b97-b257-e2a8e2e3b6a0"
      },
      "outputs": [],
      "source": [
        "# Concatenate the bioctivity value of each chem compound with the descriptors associated to it\n",
        "df_final = pd.concat([dfB_GSK3['gsk3'], descriptors], axis = 1)"
      ],
      "id": "1558a045-7bed-4b97-b257-e2a8e2e3b6a0"
    },
    {
      "cell_type": "code",
      "execution_count": null,
      "metadata": {
        "id": "1df0d09d-f1ec-463f-9d48-f5a3cab4714f"
      },
      "outputs": [],
      "source": [
        "df_final.to_csv(\"descriptorsGSK3.csv\", index = False)"
      ],
      "id": "1df0d09d-f1ec-463f-9d48-f5a3cab4714f"
    }
  ],
  "metadata": {
    "colab": {
      "provenance": []
    },
    "kernelspec": {
      "display_name": "Python 3 (ipykernel)",
      "language": "python",
      "name": "python3"
    },
    "language_info": {
      "codemirror_mode": {
        "name": "ipython",
        "version": 3
      },
      "file_extension": ".py",
      "mimetype": "text/x-python",
      "name": "python",
      "nbconvert_exporter": "python",
      "pygments_lexer": "ipython3",
      "version": "3.7.9"
    },
    "gpuClass": "standard"
  },
  "nbformat": 4,
  "nbformat_minor": 5
}